{
 "cells": [
  {
   "cell_type": "code",
   "execution_count": 3,
   "id": "9fe10403",
   "metadata": {},
   "outputs": [],
   "source": [
    "# Import numpy\n",
    "import numpy as np\n",
    "from time import process_time"
   ]
  },
  {
   "cell_type": "markdown",
   "id": "a7dcf490",
   "metadata": {},
   "source": [
    "### List vs Numpy Array Time Taken "
   ]
  },
  {
   "cell_type": "code",
   "execution_count": 4,
   "id": "1b7d4e1b",
   "metadata": {},
   "outputs": [
    {
     "name": "stdout",
     "output_type": "stream",
     "text": [
      "0.0\n"
     ]
    }
   ],
   "source": [
    "# Time Taken by list\n",
    "python_list  = [ i for i in range(10000)]\n",
    "\n",
    "start_time = process_time()\n",
    "\n",
    "python_list = [i+5 for i in python_list]\n",
    "\n",
    "end_time = process_time()\n",
    "\n",
    "print(end_time-start_time)  "
   ]
  },
  {
   "cell_type": "code",
   "execution_count": 5,
   "id": "89754034",
   "metadata": {},
   "outputs": [
    {
     "name": "stdout",
     "output_type": "stream",
     "text": [
      "4.453125\n",
      "4.453125\n",
      "0.0\n"
     ]
    }
   ],
   "source": [
    "np_arr = np.array([i for i in range(10000)])\n",
    "start_time = process_time()\n",
    "print(start_time)\n",
    "\n",
    "np_arr = np_arr + 5\n",
    "end_time = process_time()\n",
    "print(end_time)\n",
    "print(end_time-start_time)  "
   ]
  },
  {
   "cell_type": "code",
   "execution_count": 6,
   "id": "43a2beb4",
   "metadata": {},
   "outputs": [
    {
     "name": "stdout",
     "output_type": "stream",
     "text": [
      "[1 2 3 4 5]\n"
     ]
    },
    {
     "data": {
      "text/plain": [
       "(5,)"
      ]
     },
     "execution_count": 6,
     "metadata": {},
     "output_type": "execute_result"
    }
   ],
   "source": [
    "# 1D arrays\n",
    "a = np.array([1, 2, 3, 4, 5])\n",
    "print(a)\n",
    "type(a)\n",
    "a.shape"
   ]
  },
  {
   "cell_type": "code",
   "execution_count": 7,
   "id": "28b3bce4",
   "metadata": {},
   "outputs": [
    {
     "name": "stdout",
     "output_type": "stream",
     "text": [
      "[[1 2 3]\n",
      " [4 5 6]]\n"
     ]
    },
    {
     "data": {
      "text/plain": [
       "(2, 3)"
      ]
     },
     "execution_count": 7,
     "metadata": {},
     "output_type": "execute_result"
    }
   ],
   "source": [
    "# 2D arrays\n",
    "b = np.array([[1, 2, 3], [4, 5, 6]])\n",
    "print(b)\n",
    "type(b)\n",
    "b.shape"
   ]
  },
  {
   "cell_type": "code",
   "execution_count": 8,
   "id": "e6d89bb5",
   "metadata": {},
   "outputs": [
    {
     "name": "stdout",
     "output_type": "stream",
     "text": [
      "[1. 2. 3. 4. 5.]\n"
     ]
    },
    {
     "data": {
      "text/plain": [
       "numpy.ndarray"
      ]
     },
     "execution_count": 8,
     "metadata": {},
     "output_type": "execute_result"
    }
   ],
   "source": [
    "# data type manipulation of array\n",
    "\n",
    "c = np.array([1, 2, 3, 4, 5], dtype='float32')\n",
    "print(c)\n",
    "type(c)"
   ]
  },
  {
   "cell_type": "code",
   "execution_count": 9,
   "id": "ca24b19e",
   "metadata": {},
   "outputs": [
    {
     "data": {
      "text/plain": [
       "array([[0., 0., 0.],\n",
       "       [0., 0., 0.],\n",
       "       [0., 0., 0.]])"
      ]
     },
     "execution_count": 9,
     "metadata": {},
     "output_type": "execute_result"
    }
   ],
   "source": [
    "# creating a numpy array with zeros \n",
    "d = np.zeros((3,3))     # (3,) represents no of rows (,3) represents no of columns\n",
    "d"
   ]
  },
  {
   "cell_type": "code",
   "execution_count": 10,
   "id": "a9904062",
   "metadata": {},
   "outputs": [
    {
     "data": {
      "text/plain": [
       "array([[1., 1., 1., 1., 1.],\n",
       "       [1., 1., 1., 1., 1.],\n",
       "       [1., 1., 1., 1., 1.],\n",
       "       [1., 1., 1., 1., 1.]])"
      ]
     },
     "execution_count": 10,
     "metadata": {},
     "output_type": "execute_result"
    }
   ],
   "source": [
    "# creating a numpy array with ones\n",
    "e = np.ones((4,5)) \n",
    "e"
   ]
  },
  {
   "cell_type": "code",
   "execution_count": 11,
   "id": "3cfe45b8",
   "metadata": {},
   "outputs": [
    {
     "data": {
      "text/plain": [
       "array([[10, 10, 10],\n",
       "       [10, 10, 10],\n",
       "       [10, 10, 10],\n",
       "       [10, 10, 10]])"
      ]
     },
     "execution_count": 11,
     "metadata": {},
     "output_type": "execute_result"
    }
   ],
   "source": [
    "# array of perticular value\n",
    "f = np.full((4,3), 10)\n",
    "f"
   ]
  },
  {
   "cell_type": "code",
   "execution_count": 12,
   "id": "d8121c57",
   "metadata": {},
   "outputs": [
    {
     "data": {
      "text/plain": [
       "array([[1., 0., 0., 0., 0.],\n",
       "       [0., 1., 0., 0., 0.],\n",
       "       [0., 0., 1., 0., 0.],\n",
       "       [0., 0., 0., 1., 0.],\n",
       "       [0., 0., 0., 0., 1.]])"
      ]
     },
     "execution_count": 12,
     "metadata": {},
     "output_type": "execute_result"
    }
   ],
   "source": [
    "# creating identity matrix (In identity matrix no of rows and columns are same or equal to each other)\n",
    "a = np.eye(5)\n",
    "a"
   ]
  },
  {
   "cell_type": "code",
   "execution_count": 13,
   "id": "74550c33",
   "metadata": {},
   "outputs": [
    {
     "data": {
      "text/plain": [
       "array([[0.46843872, 0.73312424, 0.39770218, 0.45449249],\n",
       "       [0.69304713, 0.40439119, 0.41522126, 0.83324332],\n",
       "       [0.41764545, 0.83741393, 0.18200182, 0.91892662],\n",
       "       [0.8109092 , 0.42564738, 0.75046359, 0.80477335]])"
      ]
     },
     "execution_count": 13,
     "metadata": {},
     "output_type": "execute_result"
    }
   ],
   "source": [
    "# creating array with random values\n",
    "b = np.random.random((4,4))\n",
    "b"
   ]
  },
  {
   "cell_type": "code",
   "execution_count": 14,
   "id": "8fa13a67",
   "metadata": {},
   "outputs": [
    {
     "data": {
      "text/plain": [
       "array([[ 5, 68, 70, 31],\n",
       "       [19, 93, 46, 88],\n",
       "       [98, 55, 10,  5],\n",
       "       [87, 36,  3, 86]], dtype=int32)"
      ]
     },
     "execution_count": 14,
     "metadata": {},
     "output_type": "execute_result"
    }
   ],
   "source": [
    "# creating array with random integer values with specific range\n",
    "c = np.random.randint(1,100,(4,4))\n",
    "#randint -> random integer values (start_value, end_value, shape of the array)\n",
    "c"
   ]
  },
  {
   "cell_type": "code",
   "execution_count": 15,
   "id": "3f520c73",
   "metadata": {},
   "outputs": [
    {
     "name": "stdout",
     "output_type": "stream",
     "text": [
      "[10.  12.5 15.  17.5 20. ]\n"
     ]
    }
   ],
   "source": [
    "# creating array with evenly spaced values\n",
    "d = np.linspace(10, 20, 5)\n",
    "# linspace => Linear spacing of numbers over a specified interval.(start, stop, number of elements)\n",
    "print(d)"
   ]
  },
  {
   "cell_type": "code",
   "execution_count": 16,
   "id": "0dd33164",
   "metadata": {},
   "outputs": [
    {
     "name": "stdout",
     "output_type": "stream",
     "text": [
      "[10 15 20 25 30 35]\n"
     ]
    }
   ],
   "source": [
    "# creating array with step values\n",
    "a = np.arange(10, 40, 5)\n",
    "print(a)"
   ]
  },
  {
   "cell_type": "code",
   "execution_count": 17,
   "id": "e88b2787",
   "metadata": {},
   "outputs": [
    {
     "name": "stdout",
     "output_type": "stream",
     "text": [
      "[ 1  2 50 60 70]\n"
     ]
    },
    {
     "data": {
      "text/plain": [
       "numpy.ndarray"
      ]
     },
     "execution_count": 17,
     "metadata": {},
     "output_type": "execute_result"
    }
   ],
   "source": [
    "# converting list to numpy array\n",
    "\n",
    "python_list = [1, 2, 50, 60, 70]\n",
    "numpy_array = np.asarray(python_list)\n",
    "print(numpy_array)\n",
    "type(numpy_array)"
   ]
  },
  {
   "cell_type": "markdown",
   "id": "1bcd4e45",
   "metadata": {},
   "source": [
    "### Mathematical Operations on array"
   ]
  },
  {
   "cell_type": "code",
   "execution_count": 18,
   "id": "b60897cd",
   "metadata": {},
   "outputs": [
    {
     "name": "stdout",
     "output_type": "stream",
     "text": [
      "[1, 2, 3, 4, 5, 6, 7, 8, 9, 10]\n"
     ]
    }
   ],
   "source": [
    "list_1 = [1, 2, 3, 4, 5]\n",
    "list_2 = [6, 7, 8, 9, 10]\n",
    "\n",
    "print(list_1 + list_2)"
   ]
  },
  {
   "cell_type": "code",
   "execution_count": 19,
   "id": "9aadbf3b",
   "metadata": {},
   "outputs": [],
   "source": [
    "a = np.random.randint(0, 10, (3, 4))\n",
    "b = np.random.randint(10, 20,(3, 4))"
   ]
  },
  {
   "cell_type": "code",
   "execution_count": 21,
   "id": "60980f2a",
   "metadata": {},
   "outputs": [
    {
     "name": "stdout",
     "output_type": "stream",
     "text": [
      "[[5 2 7 4]\n",
      " [1 2 3 9]\n",
      " [6 0 5 9]]\n",
      "\n",
      "[[17 11 13 10]\n",
      " [18 18 18 19]\n",
      " [19 15 12 12]]\n"
     ]
    }
   ],
   "source": [
    "print(a)\n",
    "print()\n",
    "print(b)"
   ]
  },
  {
   "cell_type": "code",
   "execution_count": 26,
   "id": "b2e2a535",
   "metadata": {},
   "outputs": [
    {
     "name": "stdout",
     "output_type": "stream",
     "text": [
      "[[22 13 20 14]\n",
      " [19 20 21 28]\n",
      " [25 15 17 21]]\n",
      "[[-12  -9  -6  -6]\n",
      " [-17 -16 -15 -10]\n",
      " [-13 -15  -7  -3]]\n",
      "[[ 85  22  91  40]\n",
      " [ 18  36  54 171]\n",
      " [114   0  60 108]]\n",
      "[[0.29411765 0.18181818 0.53846154 0.4       ]\n",
      " [0.05555556 0.11111111 0.16666667 0.47368421]\n",
      " [0.31578947 0.         0.41666667 0.75      ]]\n"
     ]
    }
   ],
   "source": [
    "print((a + b))\n",
    "print((a - b))\n",
    "print((a * b))\n",
    "print((a / b))"
   ]
  },
  {
   "cell_type": "code",
   "execution_count": 27,
   "id": "d337fbd2",
   "metadata": {},
   "outputs": [
    {
     "name": "stdout",
     "output_type": "stream",
     "text": [
      "[[22 13 20 14]\n",
      " [19 20 21 28]\n",
      " [25 15 17 21]]\n",
      "[[-12  -9  -6  -6]\n",
      " [-17 -16 -15 -10]\n",
      " [-13 -15  -7  -3]]\n",
      "[[ 85  22  91  40]\n",
      " [ 18  36  54 171]\n",
      " [114   0  60 108]]\n",
      "[[0.29411765 0.18181818 0.53846154 0.4       ]\n",
      " [0.05555556 0.11111111 0.16666667 0.47368421]\n",
      " [0.31578947 0.         0.41666667 0.75      ]]\n"
     ]
    }
   ],
   "source": [
    "print( np.add(a, b))\n",
    "print( np.subtract(a, b))\n",
    "print(np.multiply(a, b))\n",
    "print(np.divide(a, b))"
   ]
  },
  {
   "cell_type": "markdown",
   "id": "69f94375",
   "metadata": {},
   "source": [
    "### Array Manipulation\n"
   ]
  },
  {
   "cell_type": "code",
   "execution_count": 28,
   "id": "bf7f1588",
   "metadata": {},
   "outputs": [
    {
     "name": "stdout",
     "output_type": "stream",
     "text": [
      "[[4 8]\n",
      " [5 5]\n",
      " [7 1]]\n",
      "(3, 2)\n"
     ]
    }
   ],
   "source": [
    "arr = np.random.randint(1, 10, (3, 2))\n",
    "print(arr)\n",
    "print(arr.shape)"
   ]
  },
  {
   "cell_type": "code",
   "execution_count": 30,
   "id": "b366f9c4",
   "metadata": {},
   "outputs": [
    {
     "name": "stdout",
     "output_type": "stream",
     "text": [
      "[[4 5 7]\n",
      " [8 5 1]]\n",
      "(2, 3)\n"
     ]
    }
   ],
   "source": [
    "# transpose -> Convert rows into columns and vice versa\n",
    "trans = np.transpose(arr)\n",
    "print(trans)\n",
    "print(trans.shape)"
   ]
  },
  {
   "cell_type": "code",
   "execution_count": 31,
   "id": "798123b9",
   "metadata": {},
   "outputs": [
    {
     "name": "stdout",
     "output_type": "stream",
     "text": [
      "[[4 5 7]\n",
      " [8 5 1]]\n",
      "(2, 3)\n"
     ]
    }
   ],
   "source": [
    "trans2 = arr.T\n",
    "print(trans2)\n",
    "print(trans2.shape)"
   ]
  },
  {
   "cell_type": "markdown",
   "id": "2079a608",
   "metadata": {},
   "source": [
    "### Reshaping the array"
   ]
  },
  {
   "cell_type": "code",
   "execution_count": 32,
   "id": "3f0720eb",
   "metadata": {},
   "outputs": [
    {
     "name": "stdout",
     "output_type": "stream",
     "text": [
      "[[2 4 7]\n",
      " [9 3 9]]\n",
      "(2, 3)\n"
     ]
    }
   ],
   "source": [
    "arr2 = np.random.randint(0, 10, (2, 3))\n",
    "print(arr2)\n",
    "print(arr2.shape)"
   ]
  },
  {
   "cell_type": "code",
   "execution_count": 35,
   "id": "9bfc3ce0",
   "metadata": {},
   "outputs": [
    {
     "name": "stdout",
     "output_type": "stream",
     "text": [
      "[[2 4]\n",
      " [7 9]\n",
      " [3 9]]\n",
      "(3, 2)\n"
     ]
    }
   ],
   "source": [
    "arr3 = arr2.reshape(3, 2)\n",
    "print(arr3)\n",
    "print(arr3.shape)"
   ]
  },
  {
   "cell_type": "code",
   "execution_count": null,
   "id": "186745f9",
   "metadata": {},
   "outputs": [],
   "source": []
  }
 ],
 "metadata": {
  "kernelspec": {
   "display_name": ".venv (3.12.4)",
   "language": "python",
   "name": "python3"
  },
  "language_info": {
   "codemirror_mode": {
    "name": "ipython",
    "version": 3
   },
   "file_extension": ".py",
   "mimetype": "text/x-python",
   "name": "python",
   "nbconvert_exporter": "python",
   "pygments_lexer": "ipython3",
   "version": "3.12.4"
  }
 },
 "nbformat": 4,
 "nbformat_minor": 5
}
