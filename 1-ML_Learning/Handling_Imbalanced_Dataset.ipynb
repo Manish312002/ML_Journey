{
 "cells": [
  {
   "cell_type": "markdown",
   "id": "10f18123",
   "metadata": {},
   "source": [
    "# Handling Imbalanced Dataset"
   ]
  },
  {
   "cell_type": "code",
   "execution_count": 1,
   "id": "db96e2ff",
   "metadata": {},
   "outputs": [],
   "source": [
    "# Importing the libraries\n",
    "import numpy as np\n",
    "import pandas as pd"
   ]
  },
  {
   "cell_type": "code",
   "execution_count": 2,
   "id": "8a1b3691",
   "metadata": {},
   "outputs": [],
   "source": [
    "df = pd.read_csv('credit_data.csv')"
   ]
  },
  {
   "cell_type": "code",
   "execution_count": 3,
   "id": "f543fc0a",
   "metadata": {},
   "outputs": [
    {
     "data": {
      "text/html": [
       "<div>\n",
       "<style scoped>\n",
       "    .dataframe tbody tr th:only-of-type {\n",
       "        vertical-align: middle;\n",
       "    }\n",
       "\n",
       "    .dataframe tbody tr th {\n",
       "        vertical-align: top;\n",
       "    }\n",
       "\n",
       "    .dataframe thead th {\n",
       "        text-align: right;\n",
       "    }\n",
       "</style>\n",
       "<table border=\"1\" class=\"dataframe\">\n",
       "  <thead>\n",
       "    <tr style=\"text-align: right;\">\n",
       "      <th></th>\n",
       "      <th>Time</th>\n",
       "      <th>V1</th>\n",
       "      <th>V2</th>\n",
       "      <th>V3</th>\n",
       "      <th>V4</th>\n",
       "      <th>V5</th>\n",
       "      <th>V6</th>\n",
       "      <th>V7</th>\n",
       "      <th>V8</th>\n",
       "      <th>V9</th>\n",
       "      <th>...</th>\n",
       "      <th>V21</th>\n",
       "      <th>V22</th>\n",
       "      <th>V23</th>\n",
       "      <th>V24</th>\n",
       "      <th>V25</th>\n",
       "      <th>V26</th>\n",
       "      <th>V27</th>\n",
       "      <th>V28</th>\n",
       "      <th>Amount</th>\n",
       "      <th>Class</th>\n",
       "    </tr>\n",
       "  </thead>\n",
       "  <tbody>\n",
       "    <tr>\n",
       "      <th>0</th>\n",
       "      <td>0.0</td>\n",
       "      <td>-1.359807</td>\n",
       "      <td>-0.072781</td>\n",
       "      <td>2.536347</td>\n",
       "      <td>1.378155</td>\n",
       "      <td>-0.338321</td>\n",
       "      <td>0.462388</td>\n",
       "      <td>0.239599</td>\n",
       "      <td>0.098698</td>\n",
       "      <td>0.363787</td>\n",
       "      <td>...</td>\n",
       "      <td>-0.018307</td>\n",
       "      <td>0.277838</td>\n",
       "      <td>-0.110474</td>\n",
       "      <td>0.066928</td>\n",
       "      <td>0.128539</td>\n",
       "      <td>-0.189115</td>\n",
       "      <td>0.133558</td>\n",
       "      <td>-0.021053</td>\n",
       "      <td>149.62</td>\n",
       "      <td>0</td>\n",
       "    </tr>\n",
       "    <tr>\n",
       "      <th>1</th>\n",
       "      <td>0.0</td>\n",
       "      <td>1.191857</td>\n",
       "      <td>0.266151</td>\n",
       "      <td>0.166480</td>\n",
       "      <td>0.448154</td>\n",
       "      <td>0.060018</td>\n",
       "      <td>-0.082361</td>\n",
       "      <td>-0.078803</td>\n",
       "      <td>0.085102</td>\n",
       "      <td>-0.255425</td>\n",
       "      <td>...</td>\n",
       "      <td>-0.225775</td>\n",
       "      <td>-0.638672</td>\n",
       "      <td>0.101288</td>\n",
       "      <td>-0.339846</td>\n",
       "      <td>0.167170</td>\n",
       "      <td>0.125895</td>\n",
       "      <td>-0.008983</td>\n",
       "      <td>0.014724</td>\n",
       "      <td>2.69</td>\n",
       "      <td>0</td>\n",
       "    </tr>\n",
       "    <tr>\n",
       "      <th>2</th>\n",
       "      <td>1.0</td>\n",
       "      <td>-1.358354</td>\n",
       "      <td>-1.340163</td>\n",
       "      <td>1.773209</td>\n",
       "      <td>0.379780</td>\n",
       "      <td>-0.503198</td>\n",
       "      <td>1.800499</td>\n",
       "      <td>0.791461</td>\n",
       "      <td>0.247676</td>\n",
       "      <td>-1.514654</td>\n",
       "      <td>...</td>\n",
       "      <td>0.247998</td>\n",
       "      <td>0.771679</td>\n",
       "      <td>0.909412</td>\n",
       "      <td>-0.689281</td>\n",
       "      <td>-0.327642</td>\n",
       "      <td>-0.139097</td>\n",
       "      <td>-0.055353</td>\n",
       "      <td>-0.059752</td>\n",
       "      <td>378.66</td>\n",
       "      <td>0</td>\n",
       "    </tr>\n",
       "    <tr>\n",
       "      <th>3</th>\n",
       "      <td>1.0</td>\n",
       "      <td>-0.966272</td>\n",
       "      <td>-0.185226</td>\n",
       "      <td>1.792993</td>\n",
       "      <td>-0.863291</td>\n",
       "      <td>-0.010309</td>\n",
       "      <td>1.247203</td>\n",
       "      <td>0.237609</td>\n",
       "      <td>0.377436</td>\n",
       "      <td>-1.387024</td>\n",
       "      <td>...</td>\n",
       "      <td>-0.108300</td>\n",
       "      <td>0.005274</td>\n",
       "      <td>-0.190321</td>\n",
       "      <td>-1.175575</td>\n",
       "      <td>0.647376</td>\n",
       "      <td>-0.221929</td>\n",
       "      <td>0.062723</td>\n",
       "      <td>0.061458</td>\n",
       "      <td>123.50</td>\n",
       "      <td>0</td>\n",
       "    </tr>\n",
       "    <tr>\n",
       "      <th>4</th>\n",
       "      <td>2.0</td>\n",
       "      <td>-1.158233</td>\n",
       "      <td>0.877737</td>\n",
       "      <td>1.548718</td>\n",
       "      <td>0.403034</td>\n",
       "      <td>-0.407193</td>\n",
       "      <td>0.095921</td>\n",
       "      <td>0.592941</td>\n",
       "      <td>-0.270533</td>\n",
       "      <td>0.817739</td>\n",
       "      <td>...</td>\n",
       "      <td>-0.009431</td>\n",
       "      <td>0.798278</td>\n",
       "      <td>-0.137458</td>\n",
       "      <td>0.141267</td>\n",
       "      <td>-0.206010</td>\n",
       "      <td>0.502292</td>\n",
       "      <td>0.219422</td>\n",
       "      <td>0.215153</td>\n",
       "      <td>69.99</td>\n",
       "      <td>0</td>\n",
       "    </tr>\n",
       "  </tbody>\n",
       "</table>\n",
       "<p>5 rows × 31 columns</p>\n",
       "</div>"
      ],
      "text/plain": [
       "   Time        V1        V2        V3        V4        V5        V6        V7  \\\n",
       "0   0.0 -1.359807 -0.072781  2.536347  1.378155 -0.338321  0.462388  0.239599   \n",
       "1   0.0  1.191857  0.266151  0.166480  0.448154  0.060018 -0.082361 -0.078803   \n",
       "2   1.0 -1.358354 -1.340163  1.773209  0.379780 -0.503198  1.800499  0.791461   \n",
       "3   1.0 -0.966272 -0.185226  1.792993 -0.863291 -0.010309  1.247203  0.237609   \n",
       "4   2.0 -1.158233  0.877737  1.548718  0.403034 -0.407193  0.095921  0.592941   \n",
       "\n",
       "         V8        V9  ...       V21       V22       V23       V24       V25  \\\n",
       "0  0.098698  0.363787  ... -0.018307  0.277838 -0.110474  0.066928  0.128539   \n",
       "1  0.085102 -0.255425  ... -0.225775 -0.638672  0.101288 -0.339846  0.167170   \n",
       "2  0.247676 -1.514654  ...  0.247998  0.771679  0.909412 -0.689281 -0.327642   \n",
       "3  0.377436 -1.387024  ... -0.108300  0.005274 -0.190321 -1.175575  0.647376   \n",
       "4 -0.270533  0.817739  ... -0.009431  0.798278 -0.137458  0.141267 -0.206010   \n",
       "\n",
       "        V26       V27       V28  Amount  Class  \n",
       "0 -0.189115  0.133558 -0.021053  149.62      0  \n",
       "1  0.125895 -0.008983  0.014724    2.69      0  \n",
       "2 -0.139097 -0.055353 -0.059752  378.66      0  \n",
       "3 -0.221929  0.062723  0.061458  123.50      0  \n",
       "4  0.502292  0.219422  0.215153   69.99      0  \n",
       "\n",
       "[5 rows x 31 columns]"
      ]
     },
     "execution_count": 3,
     "metadata": {},
     "output_type": "execute_result"
    }
   ],
   "source": [
    "df.head()"
   ]
  },
  {
   "cell_type": "code",
   "execution_count": null,
   "id": "41b36e6a",
   "metadata": {},
   "outputs": [
    {
     "data": {
      "text/plain": [
       "Class\n",
       "0    284315\n",
       "1       492\n",
       "Name: count, dtype: int64"
      ]
     },
     "execution_count": 5,
     "metadata": {},
     "output_type": "execute_result"
    }
   ],
   "source": [
    "df['Class'].value_counts()"
   ]
  },
  {
   "cell_type": "markdown",
   "id": "a1c41cdc",
   "metadata": {},
   "source": [
    "### Class\n",
    "- 0  ->  284315  -> Legit Transactions\n",
    "- 1  ->     492  -> Fraudulent Transactions\n",
    "- This is the Highly imbalanced dataset"
   ]
  },
  {
   "cell_type": "code",
   "execution_count": 7,
   "id": "fe19473d",
   "metadata": {},
   "outputs": [],
   "source": [
    "legit = df[df['Class'] == 0]\n",
    "fraud = df[df['Class'] == 1]"
   ]
  },
  {
   "cell_type": "code",
   "execution_count": 8,
   "id": "30fcca57",
   "metadata": {},
   "outputs": [
    {
     "name": "stdout",
     "output_type": "stream",
     "text": [
      "(284315, 31) (492, 31)\n"
     ]
    }
   ],
   "source": [
    "print(legit.shape, fraud.shape)"
   ]
  },
  {
   "cell_type": "markdown",
   "id": "aaefc098",
   "metadata": {},
   "source": [
    "## Under-Sampling\n",
    "Build a sample dataset containing equal number of distribution of classes Legit and Fraud.\n",
    "- No of Fraud Transactions = 492"
   ]
  },
  {
   "cell_type": "code",
   "execution_count": 9,
   "id": "2d3e19a4",
   "metadata": {},
   "outputs": [],
   "source": [
    "legit_sample = legit.sample(n=492)"
   ]
  },
  {
   "cell_type": "code",
   "execution_count": 10,
   "id": "1ef7e654",
   "metadata": {},
   "outputs": [
    {
     "data": {
      "text/plain": [
       "(492, 31)"
      ]
     },
     "execution_count": 10,
     "metadata": {},
     "output_type": "execute_result"
    }
   ],
   "source": [
    "legit_sample.shape"
   ]
  },
  {
   "cell_type": "code",
   "execution_count": 12,
   "id": "c14442e8",
   "metadata": {},
   "outputs": [],
   "source": [
    "# Concatenate two datasets\n",
    "new_df = pd.concat([legit_sample, fraud], axis=0)"
   ]
  },
  {
   "cell_type": "code",
   "execution_count": 13,
   "id": "0d7667b0",
   "metadata": {},
   "outputs": [
    {
     "data": {
      "text/html": [
       "<div>\n",
       "<style scoped>\n",
       "    .dataframe tbody tr th:only-of-type {\n",
       "        vertical-align: middle;\n",
       "    }\n",
       "\n",
       "    .dataframe tbody tr th {\n",
       "        vertical-align: top;\n",
       "    }\n",
       "\n",
       "    .dataframe thead th {\n",
       "        text-align: right;\n",
       "    }\n",
       "</style>\n",
       "<table border=\"1\" class=\"dataframe\">\n",
       "  <thead>\n",
       "    <tr style=\"text-align: right;\">\n",
       "      <th></th>\n",
       "      <th>Time</th>\n",
       "      <th>V1</th>\n",
       "      <th>V2</th>\n",
       "      <th>V3</th>\n",
       "      <th>V4</th>\n",
       "      <th>V5</th>\n",
       "      <th>V6</th>\n",
       "      <th>V7</th>\n",
       "      <th>V8</th>\n",
       "      <th>V9</th>\n",
       "      <th>...</th>\n",
       "      <th>V21</th>\n",
       "      <th>V22</th>\n",
       "      <th>V23</th>\n",
       "      <th>V24</th>\n",
       "      <th>V25</th>\n",
       "      <th>V26</th>\n",
       "      <th>V27</th>\n",
       "      <th>V28</th>\n",
       "      <th>Amount</th>\n",
       "      <th>Class</th>\n",
       "    </tr>\n",
       "  </thead>\n",
       "  <tbody>\n",
       "    <tr>\n",
       "      <th>3618</th>\n",
       "      <td>3094.0</td>\n",
       "      <td>-0.612026</td>\n",
       "      <td>0.938788</td>\n",
       "      <td>1.354407</td>\n",
       "      <td>0.955059</td>\n",
       "      <td>-0.523281</td>\n",
       "      <td>0.191454</td>\n",
       "      <td>1.018194</td>\n",
       "      <td>-0.042082</td>\n",
       "      <td>-0.317349</td>\n",
       "      <td>...</td>\n",
       "      <td>-0.146281</td>\n",
       "      <td>-0.411536</td>\n",
       "      <td>0.209932</td>\n",
       "      <td>0.005353</td>\n",
       "      <td>-0.776464</td>\n",
       "      <td>-0.667928</td>\n",
       "      <td>0.019674</td>\n",
       "      <td>0.116949</td>\n",
       "      <td>130.20</td>\n",
       "      <td>0</td>\n",
       "    </tr>\n",
       "    <tr>\n",
       "      <th>250380</th>\n",
       "      <td>154874.0</td>\n",
       "      <td>1.746113</td>\n",
       "      <td>0.277682</td>\n",
       "      <td>-0.674812</td>\n",
       "      <td>3.818199</td>\n",
       "      <td>0.233324</td>\n",
       "      <td>-0.092876</td>\n",
       "      <td>0.259947</td>\n",
       "      <td>0.015660</td>\n",
       "      <td>-1.031846</td>\n",
       "      <td>...</td>\n",
       "      <td>-0.149639</td>\n",
       "      <td>-0.625938</td>\n",
       "      <td>0.255574</td>\n",
       "      <td>-0.018957</td>\n",
       "      <td>-0.259852</td>\n",
       "      <td>-0.292829</td>\n",
       "      <td>-0.063101</td>\n",
       "      <td>-0.046457</td>\n",
       "      <td>72.63</td>\n",
       "      <td>0</td>\n",
       "    </tr>\n",
       "    <tr>\n",
       "      <th>123396</th>\n",
       "      <td>76910.0</td>\n",
       "      <td>1.247000</td>\n",
       "      <td>0.628052</td>\n",
       "      <td>0.369489</td>\n",
       "      <td>2.284129</td>\n",
       "      <td>0.275468</td>\n",
       "      <td>-0.038581</td>\n",
       "      <td>0.158325</td>\n",
       "      <td>-0.105334</td>\n",
       "      <td>-0.785854</td>\n",
       "      <td>...</td>\n",
       "      <td>-0.118596</td>\n",
       "      <td>-0.346265</td>\n",
       "      <td>-0.090721</td>\n",
       "      <td>-0.449027</td>\n",
       "      <td>0.559450</td>\n",
       "      <td>-0.024928</td>\n",
       "      <td>-0.005078</td>\n",
       "      <td>0.017939</td>\n",
       "      <td>4.72</td>\n",
       "      <td>0</td>\n",
       "    </tr>\n",
       "    <tr>\n",
       "      <th>173260</th>\n",
       "      <td>121410.0</td>\n",
       "      <td>2.093305</td>\n",
       "      <td>-0.841304</td>\n",
       "      <td>-0.372266</td>\n",
       "      <td>-0.361620</td>\n",
       "      <td>-0.960115</td>\n",
       "      <td>-0.128898</td>\n",
       "      <td>-1.028501</td>\n",
       "      <td>0.080810</td>\n",
       "      <td>-0.279499</td>\n",
       "      <td>...</td>\n",
       "      <td>-0.496801</td>\n",
       "      <td>-0.926750</td>\n",
       "      <td>0.417371</td>\n",
       "      <td>-0.564764</td>\n",
       "      <td>-0.674912</td>\n",
       "      <td>0.005952</td>\n",
       "      <td>0.006590</td>\n",
       "      <td>-0.047912</td>\n",
       "      <td>8.00</td>\n",
       "      <td>0</td>\n",
       "    </tr>\n",
       "    <tr>\n",
       "      <th>221438</th>\n",
       "      <td>142570.0</td>\n",
       "      <td>1.827777</td>\n",
       "      <td>0.267640</td>\n",
       "      <td>-0.148190</td>\n",
       "      <td>3.782153</td>\n",
       "      <td>0.170809</td>\n",
       "      <td>0.653658</td>\n",
       "      <td>-0.263134</td>\n",
       "      <td>0.201327</td>\n",
       "      <td>-0.373678</td>\n",
       "      <td>...</td>\n",
       "      <td>-0.411304</td>\n",
       "      <td>-1.245874</td>\n",
       "      <td>0.506208</td>\n",
       "      <td>0.481327</td>\n",
       "      <td>-0.566654</td>\n",
       "      <td>-0.533869</td>\n",
       "      <td>-0.009424</td>\n",
       "      <td>-0.019718</td>\n",
       "      <td>33.51</td>\n",
       "      <td>0</td>\n",
       "    </tr>\n",
       "  </tbody>\n",
       "</table>\n",
       "<p>5 rows × 31 columns</p>\n",
       "</div>"
      ],
      "text/plain": [
       "            Time        V1        V2        V3        V4        V5        V6  \\\n",
       "3618      3094.0 -0.612026  0.938788  1.354407  0.955059 -0.523281  0.191454   \n",
       "250380  154874.0  1.746113  0.277682 -0.674812  3.818199  0.233324 -0.092876   \n",
       "123396   76910.0  1.247000  0.628052  0.369489  2.284129  0.275468 -0.038581   \n",
       "173260  121410.0  2.093305 -0.841304 -0.372266 -0.361620 -0.960115 -0.128898   \n",
       "221438  142570.0  1.827777  0.267640 -0.148190  3.782153  0.170809  0.653658   \n",
       "\n",
       "              V7        V8        V9  ...       V21       V22       V23  \\\n",
       "3618    1.018194 -0.042082 -0.317349  ... -0.146281 -0.411536  0.209932   \n",
       "250380  0.259947  0.015660 -1.031846  ... -0.149639 -0.625938  0.255574   \n",
       "123396  0.158325 -0.105334 -0.785854  ... -0.118596 -0.346265 -0.090721   \n",
       "173260 -1.028501  0.080810 -0.279499  ... -0.496801 -0.926750  0.417371   \n",
       "221438 -0.263134  0.201327 -0.373678  ... -0.411304 -1.245874  0.506208   \n",
       "\n",
       "             V24       V25       V26       V27       V28  Amount  Class  \n",
       "3618    0.005353 -0.776464 -0.667928  0.019674  0.116949  130.20      0  \n",
       "250380 -0.018957 -0.259852 -0.292829 -0.063101 -0.046457   72.63      0  \n",
       "123396 -0.449027  0.559450 -0.024928 -0.005078  0.017939    4.72      0  \n",
       "173260 -0.564764 -0.674912  0.005952  0.006590 -0.047912    8.00      0  \n",
       "221438  0.481327 -0.566654 -0.533869 -0.009424 -0.019718   33.51      0  \n",
       "\n",
       "[5 rows x 31 columns]"
      ]
     },
     "execution_count": 13,
     "metadata": {},
     "output_type": "execute_result"
    }
   ],
   "source": [
    "new_df.head()"
   ]
  },
  {
   "cell_type": "code",
   "execution_count": 15,
   "id": "1fc50d2e",
   "metadata": {},
   "outputs": [
    {
     "data": {
      "text/plain": [
       "(984, 31)"
      ]
     },
     "execution_count": 15,
     "metadata": {},
     "output_type": "execute_result"
    }
   ],
   "source": [
    "new_df.shape"
   ]
  },
  {
   "cell_type": "code",
   "execution_count": 17,
   "id": "34d0caec",
   "metadata": {},
   "outputs": [
    {
     "data": {
      "text/plain": [
       "Class\n",
       "0    492\n",
       "1    492\n",
       "Name: count, dtype: int64"
      ]
     },
     "execution_count": 17,
     "metadata": {},
     "output_type": "execute_result"
    }
   ],
   "source": [
    "new_df['Class'].value_counts()"
   ]
  },
  {
   "cell_type": "code",
   "execution_count": null,
   "id": "072b3c0d",
   "metadata": {},
   "outputs": [],
   "source": []
  }
 ],
 "metadata": {
  "kernelspec": {
   "display_name": ".venv (3.12.4)",
   "language": "python",
   "name": "python3"
  },
  "language_info": {
   "codemirror_mode": {
    "name": "ipython",
    "version": 3
   },
   "file_extension": ".py",
   "mimetype": "text/x-python",
   "name": "python",
   "nbconvert_exporter": "python",
   "pygments_lexer": "ipython3",
   "version": "3.12.4"
  }
 },
 "nbformat": 4,
 "nbformat_minor": 5
}
